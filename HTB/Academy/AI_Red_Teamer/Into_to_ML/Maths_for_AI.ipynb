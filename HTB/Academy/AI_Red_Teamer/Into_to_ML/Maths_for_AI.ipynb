{
 "cells": [
  {
   "cell_type": "markdown",
   "id": "25b11355",
   "metadata": {},
   "source": [
    "Basic Arithmetic Operations"
   ]
  },
  {
   "cell_type": "code",
   "execution_count": null,
   "id": "1fa3b96b",
   "metadata": {},
   "outputs": [
    {
     "name": "stdout",
     "output_type": "stream",
     "text": [
      "Product of 3 * 4:  12\n",
      "Quotient of 10 / 2:  5.0\n",
      "Sum of 2+2: 4\n",
      "Difference of 9-4: 5\n"
     ]
    }
   ],
   "source": [
    "#Mutiplication\n",
    "print(\"Product of 3 * 4: \",3*4) \n",
    "#Division\n",
    "print(\"Quotient of 10 / 2: \", 10/2)\n",
    "#Addition\n",
    "print(\"Sum of 2+2:\", 2+2)\n",
    "#Subtraction\n",
    "print(\"Difference of 9-4:\", 9-4)"
   ]
  },
  {
   "cell_type": "markdown",
   "id": "3572eccd",
   "metadata": {},
   "source": [
    "Algebraic Notation"
   ]
  },
  {
   "cell_type": "markdown",
   "id": "b33ce01b",
   "metadata": {},
   "source": [
    "Subscript Notation (x_t): The subscript notation represents a variable indexed by t, often indicating a specific time step or state in a sequence.\n",
    "Example: This notation is commonly used in sequences and time series data, where each x_t represents the value of x at time t.\n",
    "Usage: x_t = q(x_t | x_{t-2})\n",
    "\n",
    "Superscript Notation (x^n): Superscript notation is used to denote exponents or powers.\n",
    "Example: This notation is used in polynomial expressions and exponential functions.\n",
    "Usage: x^2 = x * x \n",
    "\n",
    "Norm (||...||): The norm measures the size or length of a vector. The most common norm is the Euclidean norm\n",
    "Other norms include the L1 norm (Manhattan distance) and the L∞ norm (maximum absolute value):\n",
    "Usage:\n",
    "Norm: ||v|| = sqrt{v_1^2 + v_2^2 + ... + v_n^2}\n",
    "L1 norm: ||v||_1 = |v_1| + |v_2| + ... + |v_n|\n",
    "L∞ norm: ||v||_∞ = max(|v_1|, |v_2|, ..., |v_n|)\n",
    "\n",
    "Note: Norms are used in various applications, such as measuring the distance between vectors, regularizing models to prevent overfitting, and normalizing data.\n",
    "\n",
    "Summation Symbol (Σ): The summation symbol indicates the sum of a sequence of terms.\n",
    "Example: This represents the sum of the terms a_1, a_2, ..., a_n. Summation is used in many mathematical formulas, including calculating means, variances, and series.\n",
    "Usage: Σ_{i=1}^{n} a_i\n",
    "\n"
   ]
  },
  {
   "cell_type": "markdown",
   "id": "330dc7b3",
   "metadata": {},
   "source": [
    "Logarithms and Exponentials"
   ]
  },
  {
   "cell_type": "code",
   "execution_count": 12,
   "id": "a1b75fb4",
   "metadata": {},
   "outputs": [
    {
     "name": "stdout",
     "output_type": "stream",
     "text": [
      "Logrithmic function to base 2 of 3: 1.584962500721156\n",
      "Natural Logrithmic function of e^2: log(e)\n"
     ]
    }
   ],
   "source": [
    "import math as math\n",
    "from sympy import ln\n",
    "from sympy.abc import e\n",
    "#Log base 2\n",
    "print(\"Logrithmic function to base 2 of 3:\", math.log2(3))\n",
    "#Natural log\n",
    "print(\"Natural Logrithmic function of e^2:\", ln(e))"
   ]
  }
 ],
 "metadata": {
  "kernelspec": {
   "display_name": "Python 3",
   "language": "python",
   "name": "python3"
  },
  "language_info": {
   "codemirror_mode": {
    "name": "ipython",
    "version": 3
   },
   "file_extension": ".py",
   "mimetype": "text/x-python",
   "name": "python",
   "nbconvert_exporter": "python",
   "pygments_lexer": "ipython3",
   "version": "3.11.9"
  }
 },
 "nbformat": 4,
 "nbformat_minor": 5
}
